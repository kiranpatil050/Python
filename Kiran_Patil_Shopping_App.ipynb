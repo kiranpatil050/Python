{
 "cells": [
  {
   "cell_type": "markdown",
   "id": "bdff3fd3-ec79-4397-9569-b38ce0096b06",
   "metadata": {},
   "source": [
    "# A2Z Shopping App"
   ]
  },
  {
   "cell_type": "code",
   "execution_count": 2,
   "id": "18d0d4dc-4028-444f-9134-64847fea79a3",
   "metadata": {},
   "outputs": [
    {
     "name": "stdout",
     "output_type": "stream",
     "text": [
      "Welcome to the A2Z Marketplace! :)\n"
     ]
    },
    {
     "name": "stdin",
     "output_type": "stream",
     "text": [
      "Enter your email:  user1@a2z.com\n",
      "Enter your password:  password1\n"
     ]
    },
    {
     "name": "stdout",
     "output_type": "stream",
     "text": [
      "\n",
      "Categories:\n",
      "1: Footwear\n",
      "2: Clothing\n",
      "3: Electronics\n",
      "4: Kitchenware\n"
     ]
    },
    {
     "name": "stdin",
     "output_type": "stream",
     "text": [
      "Select category ID to view products or 0 to exit:  2\n"
     ]
    },
    {
     "name": "stdout",
     "output_type": "stream",
     "text": [
      "\n",
      "Products:\n",
      "ID: 1006, Name: Shirt, Price: 1500\n",
      "ID: 1007, Name: TShirt, Price: 1000\n",
      "ID: 1008, Name: Pant, Price: 1700\n",
      "ID: 1009, Name: Saree, Price: 4000\n"
     ]
    },
    {
     "name": "stdin",
     "output_type": "stream",
     "text": [
      "Enter product ID to add to cart or 0 to shop more:  1009\n",
      "Enter quantity:  2\n"
     ]
    },
    {
     "name": "stdout",
     "output_type": "stream",
     "text": [
      "Product added to cart.\n"
     ]
    },
    {
     "name": "stdin",
     "output_type": "stream",
     "text": [
      "Enter 'shop' to continue shopping, 'cart' to view cart, or 'delete' to remove an item from cart:  shop\n"
     ]
    },
    {
     "name": "stdout",
     "output_type": "stream",
     "text": [
      "\n",
      "Categories:\n",
      "1: Footwear\n",
      "2: Clothing\n",
      "3: Electronics\n",
      "4: Kitchenware\n"
     ]
    },
    {
     "name": "stdin",
     "output_type": "stream",
     "text": [
      "Select category ID to view products or 0 to exit:  4\n"
     ]
    },
    {
     "name": "stdout",
     "output_type": "stream",
     "text": [
      "\n",
      "Products:\n",
      "ID: 1016, Name: Pan, Price: 1500\n",
      "ID: 1017, Name: Blender, Price: 6000\n",
      "ID: 1018, Name: Oven, Price: 10000\n",
      "ID: 1019, Name: Stove, Price: 7000\n",
      "ID: 1020, Name: Cooker, Price: 5000\n"
     ]
    },
    {
     "name": "stdin",
     "output_type": "stream",
     "text": [
      "Enter product ID to add to cart or 0 to shop more:  1018\n",
      "Enter quantity:  1\n"
     ]
    },
    {
     "name": "stdout",
     "output_type": "stream",
     "text": [
      "Product added to cart.\n"
     ]
    },
    {
     "name": "stdin",
     "output_type": "stream",
     "text": [
      "Enter 'shop' to continue shopping, 'cart' to view cart, or 'delete' to remove an item from cart:  cart\n"
     ]
    },
    {
     "name": "stdout",
     "output_type": "stream",
     "text": [
      "\n",
      "Your Cart:\n",
      "Product: Saree, Quantity: 2, Price: 4000, Total: 8000\n",
      "Product: Oven, Quantity: 1, Price: 10000, Total: 10000\n",
      "\n",
      "Total Items: 3, Total Payable Amount: 18000\n",
      "\n",
      "Payment Methods:\n",
      "1. UPI\n",
      "2. Debit Card\n",
      "3. Credit Card\n",
      "4. Net Banking\n"
     ]
    },
    {
     "name": "stdin",
     "output_type": "stream",
     "text": [
      "Select payment method (1-4):  1\n"
     ]
    },
    {
     "name": "stdout",
     "output_type": "stream",
     "text": [
      "Your order is successfully placed.\n",
      "\n",
      "Categories:\n",
      "1: Footwear\n",
      "2: Clothing\n",
      "3: Electronics\n",
      "4: Kitchenware\n"
     ]
    },
    {
     "name": "stdin",
     "output_type": "stream",
     "text": [
      "Select category ID to view products or 0 to exit:  0\n"
     ]
    }
   ],
   "source": [
    "class ECommerceApp: # Creating class\n",
    "    def __init__(self): #Initialization\n",
    "        # Sample data\n",
    "        # Categories Dictionary/DB\n",
    "        self.categories_db = {\n",
    "            1: \"Footwear\",\n",
    "            2: \"Clothing\",\n",
    "            3: \"Electronics\",\n",
    "            4: \"Kitchenware\"\n",
    "        }\n",
    "\n",
    "        # Catalog Dictionary/DB\n",
    "        self.catalog_db = {\n",
    "            1001: {\"name\": \"Shoes\", \"category_id\": 1, \"price\": 1500},\n",
    "            1002: {\"name\": \"Sleeper\", \"category_id\": 1, \"price\": 500},\n",
    "            1003: {\"name\": \"Crocs\", \"category_id\": 1, \"price\": 800},\n",
    "            1004: {\"name\": \"Sandal\", \"category_id\": 1, \"price\": 1000},\n",
    "            1005: {\"name\": \"Loafer\", \"category_id\": 1, \"price\": 3000},\n",
    "            1006: {\"name\": \"Shirt\", \"category_id\": 2, \"price\": 1500},\n",
    "            1007: {\"name\": \"TShirt\", \"category_id\": 2, \"price\": 1000},\n",
    "            1008: {\"name\": \"Pant\", \"category_id\": 2, \"price\": 1700},\n",
    "            1009: {\"name\": \"Saree\", \"category_id\": 2, \"price\": 4000},\n",
    "            1010: {\"name\": \"TV\", \"category_id\": 3, \"price\": 40000},\n",
    "            1011: {\"name\": \"Fridge\", \"category_id\": 3, \"price\": 35000},\n",
    "            1012: {\"name\": \"Fan\", \"category_id\": 3, \"price\": 5000},\n",
    "            1013: {\"name\": \"Tubelight\", \"category_id\": 3, \"price\": 300},\n",
    "            1014: {\"name\": \"AC\", \"category_id\": 3, \"price\": 60000},\n",
    "            1015: {\"name\": \"Camera\", \"category_id\": 3, \"price\": 70000},\n",
    "            1016: {\"name\": \"Pan\", \"category_id\": 4, \"price\": 1500},\n",
    "            1017: {\"name\": \"Blender\", \"category_id\": 4, \"price\": 6000},\n",
    "            1018: {\"name\": \"Oven\", \"category_id\": 4, \"price\": 10000},\n",
    "            1019: {\"name\": \"Stove\", \"category_id\": 4, \"price\": 7000},\n",
    "            1020: {\"name\": \"Cooker\", \"category_id\": 4, \"price\": 5000}\n",
    "        }\n",
    "\n",
    "        # Users Dictionary/DB\n",
    "        self.users_db = {\n",
    "            \"user1@a2z.com\": \"password1\",\n",
    "            \"user2@a2z.com\": \"password2\",\n",
    "            \"user3@a2z.com\": \"password3\",\n",
    "            \"user4@a2z.com\": \"password4\"\n",
    "        }\n",
    "\n",
    "        #Admins Dictionary/DB\n",
    "        self.admins_db = {\n",
    "            \"admin1@a2z.com\": \"adminpassword1\",\n",
    "            \"admin2@a2z.com\": \"adminpassword2\"\n",
    "        }\n",
    "\n",
    "        #Creating empty session and cart\n",
    "        self.sessions_db = {}\n",
    "        self.carts_db = {}\n",
    "\n",
    "    # Display Welcome Message\n",
    "    def display_welcome_message(self):\n",
    "        print(\"Welcome to the A2Z Marketplace! :)\")\n",
    "\n",
    "    # Validate Admin or User login, create the session and assign role user/admin\n",
    "    def login(self, email, password):\n",
    "        if email in self.users_db and self.users_db[email] == password:\n",
    "            session_id = f\"user_{email}\"\n",
    "            self.sessions_db[session_id] = {\"role\": \"user\"}\n",
    "            return session_id\n",
    "        elif email in self.admins_db and self.admins_db[email] == password:\n",
    "            session_id = f\"admin_{email}\"\n",
    "            self.sessions_db[session_id] = {\"role\": \"admin\"}\n",
    "            return session_id\n",
    "        return None\n",
    "\n",
    "    # Get all Categories\n",
    "    def get_categories(self):\n",
    "        return self.categories_db\n",
    "        \n",
    "    # Get all Products in the Catalog\n",
    "    def get_products_by_category(self, category_id):\n",
    "        return {prod_id: prod_details for prod_id, prod_details in self.catalog_db.items() if prod_details[\"category_id\"] == category_id}\n",
    "\n",
    "    # Add Product and quantity to the cart\n",
    "    def add_to_cart(self, session_id, product_id, quantity):\n",
    "        if session_id not in self.carts_db:\n",
    "            self.carts_db[session_id] = {}\n",
    "        if product_id in self.carts_db[session_id]:\n",
    "            self.carts_db[session_id][product_id] += quantity\n",
    "        else:\n",
    "            self.carts_db[session_id][product_id] = quantity\n",
    "\n",
    "    # View Product and quantity to the cart\n",
    "    def view_cart(self, session_id):\n",
    "        cart = self.carts_db.get(session_id, {})\n",
    "        cart_items = []\n",
    "        total_items = 0\n",
    "        total_price = 0\n",
    "        for prod_id, quantity in cart.items():\n",
    "            if prod_id in self.catalog_db:\n",
    "                prod_details = self.catalog_db[prod_id]\n",
    "                total_items += quantity\n",
    "                total_price += prod_details[\"price\"] * quantity\n",
    "                cart_items.append({\n",
    "                    \"product_id\": prod_id,\n",
    "                    \"name\": prod_details[\"name\"],\n",
    "                    \"quantity\": quantity,\n",
    "                    \"price\": prod_details[\"price\"],\n",
    "                    \"total_price\": prod_details[\"price\"] * quantity\n",
    "                })\n",
    "        return cart_items, total_items, total_price\n",
    "\n",
    "    # Delete Product and quantity to the cart\n",
    "    def delete_from_cart(self, session_id, product_id):\n",
    "        if session_id in self.carts_db and product_id in self.carts_db[session_id]:\n",
    "            del self.carts_db[session_id][product_id]\n",
    "\n",
    "    # Clear the cart after order placed\n",
    "    def clear_cart(self, session_id):\n",
    "        if session_id in self.carts_db:\n",
    "            del self.carts_db[session_id]\n",
    "\n",
    "    # Checkout and place the order\n",
    "    def checkout(self, session_id, payment_method):\n",
    "        self.clear_cart(session_id)\n",
    "        return \"Your order is successfully placed.\"\n",
    "\n",
    "    # View Categories\n",
    "    def view_categories(self):\n",
    "        return self.categories_db\n",
    "\n",
    "    # View all Products in the Catalog with a specific category\n",
    "    def view_catalog(self):\n",
    "        catalog_list = []\n",
    "        for prod_id, prod_details in self.catalog_db.items():\n",
    "            cat_name = self.categories_db.get(prod_details[\"category_id\"], \"Unknown\")\n",
    "            catalog_list.append({\n",
    "                \"ID\": prod_id,\n",
    "                \"Name\": prod_details[\"name\"],\n",
    "                \"Category\": cat_name,\n",
    "                \"Price\": prod_details[\"price\"]\n",
    "            })\n",
    "        return catalog_list\n",
    "    \n",
    "    # Add Category\n",
    "    def add_category(self, session_id, category_id, category_name):\n",
    "        if session_id not in self.sessions_db or self.sessions_db[session_id][\"role\"] != \"admin\":\n",
    "            return \"Access denied.\"\n",
    "        if category_id in self.categories_db:\n",
    "            return \"Category ID already exists.\"\n",
    "        self.categories_db[category_id] = category_name\n",
    "        return None\n",
    "    \n",
    "    # Delete Category\n",
    "    def delete_category(self, session_id, category_id):\n",
    "        if session_id not in self.sessions_db or self.sessions_db[session_id][\"role\"] != \"admin\":\n",
    "            return \"Access denied.\"\n",
    "        if category_id not in self.categories_db:\n",
    "            return \"Category ID not found.\"\n",
    "        del self.categories_db[category_id]\n",
    "        # Remove all products associated with this category\n",
    "        self.catalog_db = {prod_id: details for prod_id, details in self.catalog_db.items() if details[\"category_id\"] != category_id}\n",
    "        return None\n",
    "\n",
    "    # Add Product\n",
    "    def add_product(self, session_id, product_name, category_id, price):\n",
    "        if session_id not in self.sessions_db or self.sessions_db[session_id][\"role\"] != \"admin\":\n",
    "            return \"Access denied.\"\n",
    "        next_id = self.get_next_product_id()\n",
    "        self.catalog_db[next_id] = {\"name\": product_name, \"category_id\": category_id, \"price\": price}\n",
    "        return next_id\n",
    "\n",
    "    # Delete Product\n",
    "    def delete_product(self, session_id, product_id):\n",
    "        if session_id not in self.sessions_db or self.sessions_db[session_id][\"role\"] != \"admin\":\n",
    "            return \"Access denied.\"\n",
    "        if product_id not in self.catalog_db:\n",
    "            return \"Product ID not found.\"\n",
    "        del self.catalog_db[product_id]\n",
    "        return None\n",
    "\n",
    "    # Generate the Product ID\n",
    "    def get_next_product_id(self):\n",
    "        if not self.catalog_db:\n",
    "            return 1001\n",
    "        return max(self.catalog_db.keys()) + 1\n",
    "\n",
    "def main(): # Defining the main function to call the programme \n",
    "    app = ECommerceApp()\n",
    "    app.display_welcome_message()\n",
    "\n",
    "    # User login Inputs\n",
    "    email = input(\"Enter your email: \")\n",
    "    password = input(\"Enter your password: \")\n",
    "    session_id = app.login(email, password)\n",
    "\n",
    "    if not session_id:\n",
    "        print(\"Invalid credentials.\")\n",
    "        return\n",
    "    \n",
    "    # Assigning role user/admin\n",
    "    role = app.sessions_db[session_id][\"role\"]\n",
    "\n",
    "    # User interactive session flow\n",
    "    if role == \"user\":\n",
    "        while True:\n",
    "            print(\"\\nCategories:\") # Print all categories to choose from for shopping\n",
    "            categories = app.get_categories()\n",
    "            for cat_id, cat_name in categories.items():\n",
    "                print(f\"{cat_id}: {cat_name}\")\n",
    "            category_id = int(input(\"Select category ID to view products or 0 to exit: \"))\n",
    "\n",
    "            if category_id == 0:\n",
    "                break\n",
    "            \n",
    "            products = app.get_products_by_category(category_id) \n",
    "            if not products:\n",
    "                print(\"No products found in this category.\")\n",
    "                continue\n",
    "\n",
    "            print(\"\\nProducts:\")  # Print all the Products from the selected categories and request \n",
    "            for prod_id, prod_details in products.items():\n",
    "                print(f\"ID: {prod_id}, Name: {prod_details['name']}, Price: {prod_details['price']}\")\n",
    "\n",
    "            product_id = int(input(\"Enter product ID to add to cart or 0 to shop more: \"))\n",
    "            if product_id == 0:\n",
    "                continue\n",
    "            \n",
    "            quantity = int(input(\"Enter quantity: \")) # Ask for the quantity\n",
    "            app.add_to_cart(session_id, product_id, quantity)\n",
    "            print(\"Product added to cart.\")\n",
    "\n",
    "            # Ask if more shopping is to be done or go to the cart\n",
    "            while True:\n",
    "                action = input(\"Enter 'shop' to continue shopping, 'cart' to view cart, or 'delete' to remove an item from cart: \").strip().lower()\n",
    "                if action == 'cart':\n",
    "                    cart_items, total_items, total_price = app.view_cart(session_id)\n",
    "                    print(\"\\nYour Cart:\")\n",
    "                    for item in cart_items:\n",
    "                        print(f\"Product: {item['name']}, Quantity: {item['quantity']}, Price: {item['price']}, Total: {item['total_price']}\")\n",
    "                    print(f\"\\nTotal Items: {total_items}, Total Payable Amount: {total_price}\")\n",
    "\n",
    "                    if cart_items:\n",
    "                        print(\"\\nPayment Methods:\")\n",
    "                        print(\"1. UPI\")\n",
    "                        print(\"2. Debit Card\")\n",
    "                        print(\"3. Credit Card\")\n",
    "                        print(\"4. Net Banking\")\n",
    "                        payment_option = int(input(\"Select payment method (1-4): \"))\n",
    "                        payment_methods = {1: \"UPI\", 2: \"Debit Card\", 3: \"Credit Card\", 4: \"Net Banking\"}\n",
    "                        payment_method = payment_methods.get(payment_option)\n",
    "                        if not payment_method:\n",
    "                            print(\"Invalid payment method selected.\")\n",
    "                        else:\n",
    "                            print(app.checkout(session_id, payment_method))\n",
    "                        break\n",
    "                    else:\n",
    "                        break\n",
    "\n",
    "                elif action == 'shop':\n",
    "                    break\n",
    "\n",
    "                elif action == 'delete':\n",
    "                    cart_items, _, _ = app.view_cart(session_id)\n",
    "                    if not cart_items:\n",
    "                        print(\"Your cart is empty.\")\n",
    "                        break\n",
    "                    print(\"\\nYour Cart:\")\n",
    "                    for item in cart_items:\n",
    "                        print(f\"Product ID: {item['product_id']}, Name: {item['name']}, Quantity: {item['quantity']}, Price: {item['price']}, Total: {item['total_price']}\")\n",
    "                    product_id = int(input(\"Enter product ID to delete from cart: \"))\n",
    "                    app.delete_from_cart(session_id, product_id)\n",
    "                    print(\"Product removed from cart.\")\n",
    "                else:\n",
    "                    print(\"Invalid action. Please try again.\")\n",
    "\n",
    "    # Session for admin\n",
    "    elif role == \"admin\":\n",
    "        # Print all the actions for the Admins and choose as input\n",
    "        while True:\n",
    "            print(\"\\nAdmin Actions:\")\n",
    "            print(\"1. View Categories\")\n",
    "            print(\"2. View Catalog\")\n",
    "            print(\"3. Add Category\")\n",
    "            print(\"4. Delete Category\")\n",
    "            print(\"5. Add Product\")\n",
    "            print(\"6. Delete Product\")\n",
    "            print(\"7. Exit\")\n",
    "            \n",
    "            choice = int(input(\"Enter your choice: \"))\n",
    "            if choice == 1:   # Print all Categories if choice is 1\n",
    "                categories = app.view_categories()\n",
    "                print(\"\\nCategories:\")\n",
    "                for cat_id, cat_name in categories.items():\n",
    "                    print(f\"ID: {cat_id}, Name: {cat_name}\")\n",
    "            elif choice == 2:  # Print all catalogs if choice is 2\n",
    "                catalog = app.view_catalog()\n",
    "                print(\"\\nCatalog:\")\n",
    "                for item in catalog:\n",
    "                    print(f\"ID: {item['ID']}, Name: {item['Name']}, Category: {item['Category']}, Price: {item['Price']}\")\n",
    "            elif choice == 3:  # Allow admin to add Category if the choice is 3\n",
    "                while True:\n",
    "                    category_id = int(input(\"Enter new category ID: \"))\n",
    "                    category_name = input(\"Enter new category name: \")\n",
    "                    result = app.add_category(session_id, category_id, category_name)\n",
    "                    if result:\n",
    "                        print(result)\n",
    "                    else:\n",
    "                        print(\"Category added successfully.\")\n",
    "                    if input(\"Enter 'back' to return to previous actions or 'exit' to go back to the main menu: \").strip().lower() == 'exit':\n",
    "                        break\n",
    "            elif choice == 4:  # Allow admin to delete Category if the choice is 4\n",
    "                while True:\n",
    "                    category_id = int(input(\"Enter category ID to delete: \"))\n",
    "                    result = app.delete_category(session_id, category_id)\n",
    "                    if result:\n",
    "                        print(result)\n",
    "                    else:\n",
    "                        print(\"Category deleted successfully.\")\n",
    "                    if input(\"Enter 'back' to return to previous actions or 'exit' to go back to the main menu: \").strip().lower() == 'exit':\n",
    "                        break\n",
    "            elif choice == 5:  # Allow admin to add Product if the choice is 5\n",
    "                while True:\n",
    "                    product_name = input(\"Enter product name: \")\n",
    "                    category_id = int(input(\"Enter category ID for the product: \"))\n",
    "                    price = float(input(\"Enter product price: \"))\n",
    "                    product_id = app.add_product(session_id, product_name, category_id, price)\n",
    "                    if isinstance(product_id, int):\n",
    "                        print(f\"Product added successfully with ID: {product_id}\")\n",
    "                    else:\n",
    "                        print(product_id)\n",
    "                    if input(\"Enter 'back' to return to previous actions or 'exit' to go back to the main menu: \").strip().lower() == 'exit':\n",
    "                        break\n",
    "            elif choice == 6:  # Allow admin to delete Product if the choice is 6\n",
    "                while True:\n",
    "                    product_id = int(input(\"Enter product ID to delete: \"))\n",
    "                    result = app.delete_product(session_id, product_id)\n",
    "                    if result:\n",
    "                        print(result)\n",
    "                    else:\n",
    "                        print(\"Product deleted successfully.\")\n",
    "                    if input(\"Enter 'back' to return to previous actions or 'exit' to go back to the main menu: \").strip().lower() == 'exit':\n",
    "                        break\n",
    "            elif choice == 7:  # Exit from Menu if choice is 7\n",
    "                break\n",
    "            else:\n",
    "                print(\"Invalid choice.\")\n",
    "\n",
    "if __name__ == \"__main__\":\n",
    "    main()"
   ]
  },
  {
   "cell_type": "code",
   "execution_count": 4,
   "id": "15214d05-d8b6-414b-a48f-7db78814dd10",
   "metadata": {},
   "outputs": [
    {
     "name": "stdout",
     "output_type": "stream",
     "text": [
      "Welcome to the A2Z Marketplace! :)\n"
     ]
    },
    {
     "name": "stdin",
     "output_type": "stream",
     "text": [
      "Enter your email:  admin1@a2z.com\n",
      "Enter your password:  adminpassword1\n"
     ]
    },
    {
     "name": "stdout",
     "output_type": "stream",
     "text": [
      "\n",
      "Admin Actions:\n",
      "1. View Categories\n",
      "2. View Catalog\n",
      "3. Add Category\n",
      "4. Delete Category\n",
      "5. Add Product\n",
      "6. Delete Product\n",
      "7. Exit\n"
     ]
    },
    {
     "name": "stdin",
     "output_type": "stream",
     "text": [
      "Enter your choice:  1\n"
     ]
    },
    {
     "name": "stdout",
     "output_type": "stream",
     "text": [
      "\n",
      "Categories:\n",
      "ID: 1, Name: Footwear\n",
      "ID: 2, Name: Clothing\n",
      "ID: 3, Name: Electronics\n",
      "ID: 4, Name: Kitchenware\n",
      "\n",
      "Admin Actions:\n",
      "1. View Categories\n",
      "2. View Catalog\n",
      "3. Add Category\n",
      "4. Delete Category\n",
      "5. Add Product\n",
      "6. Delete Product\n",
      "7. Exit\n"
     ]
    },
    {
     "name": "stdin",
     "output_type": "stream",
     "text": [
      "Enter your choice:  2\n"
     ]
    },
    {
     "name": "stdout",
     "output_type": "stream",
     "text": [
      "\n",
      "Catalog:\n",
      "ID: 1001, Name: Shoes, Category: Footwear, Price: 1500\n",
      "ID: 1002, Name: Sleeper, Category: Footwear, Price: 500\n",
      "ID: 1003, Name: Crocs, Category: Footwear, Price: 800\n",
      "ID: 1004, Name: Sandal, Category: Footwear, Price: 1000\n",
      "ID: 1005, Name: Loafer, Category: Footwear, Price: 3000\n",
      "ID: 1006, Name: Shirt, Category: Clothing, Price: 1500\n",
      "ID: 1007, Name: TShirt, Category: Clothing, Price: 1000\n",
      "ID: 1008, Name: Pant, Category: Clothing, Price: 1700\n",
      "ID: 1009, Name: Saree, Category: Clothing, Price: 4000\n",
      "ID: 1010, Name: TV, Category: Electronics, Price: 40000\n",
      "ID: 1011, Name: Fridge, Category: Electronics, Price: 35000\n",
      "ID: 1012, Name: Fan, Category: Electronics, Price: 5000\n",
      "ID: 1013, Name: Tubelight, Category: Electronics, Price: 300\n",
      "ID: 1014, Name: AC, Category: Electronics, Price: 60000\n",
      "ID: 1015, Name: Camera, Category: Electronics, Price: 70000\n",
      "ID: 1016, Name: Pan, Category: Kitchenware, Price: 1500\n",
      "ID: 1017, Name: Blender, Category: Kitchenware, Price: 6000\n",
      "ID: 1018, Name: Oven, Category: Kitchenware, Price: 10000\n",
      "ID: 1019, Name: Stove, Category: Kitchenware, Price: 7000\n",
      "ID: 1020, Name: Cooker, Category: Kitchenware, Price: 5000\n",
      "\n",
      "Admin Actions:\n",
      "1. View Categories\n",
      "2. View Catalog\n",
      "3. Add Category\n",
      "4. Delete Category\n",
      "5. Add Product\n",
      "6. Delete Product\n",
      "7. Exit\n"
     ]
    },
    {
     "name": "stdin",
     "output_type": "stream",
     "text": [
      "Enter your choice:  3\n",
      "Enter new category ID:  5\n",
      "Enter new category name:  Furniture\n"
     ]
    },
    {
     "name": "stdout",
     "output_type": "stream",
     "text": [
      "Category added successfully.\n"
     ]
    },
    {
     "name": "stdin",
     "output_type": "stream",
     "text": [
      "Enter 'back' to return to previous actions or 'exit' to go back to the main menu:  1\n",
      "Enter new category ID:  exit\n"
     ]
    },
    {
     "ename": "ValueError",
     "evalue": "invalid literal for int() with base 10: 'exit'",
     "output_type": "error",
     "traceback": [
      "\u001b[0;31m---------------------------------------------------------------------------\u001b[0m",
      "\u001b[0;31mValueError\u001b[0m                                Traceback (most recent call last)",
      "Cell \u001b[0;32mIn[4], line 1\u001b[0m\n\u001b[0;32m----> 1\u001b[0m main()\n",
      "Cell \u001b[0;32mIn[2], line 297\u001b[0m, in \u001b[0;36mmain\u001b[0;34m()\u001b[0m\n\u001b[1;32m    295\u001b[0m \u001b[38;5;28;01melif\u001b[39;00m choice \u001b[38;5;241m==\u001b[39m \u001b[38;5;241m3\u001b[39m:  \u001b[38;5;66;03m# Allow admin to add Category if the choice is 3\u001b[39;00m\n\u001b[1;32m    296\u001b[0m     \u001b[38;5;28;01mwhile\u001b[39;00m \u001b[38;5;28;01mTrue\u001b[39;00m:\n\u001b[0;32m--> 297\u001b[0m         category_id \u001b[38;5;241m=\u001b[39m \u001b[38;5;28mint\u001b[39m(\u001b[38;5;28minput\u001b[39m(\u001b[38;5;124m\"\u001b[39m\u001b[38;5;124mEnter new category ID: \u001b[39m\u001b[38;5;124m\"\u001b[39m))\n\u001b[1;32m    298\u001b[0m         category_name \u001b[38;5;241m=\u001b[39m \u001b[38;5;28minput\u001b[39m(\u001b[38;5;124m\"\u001b[39m\u001b[38;5;124mEnter new category name: \u001b[39m\u001b[38;5;124m\"\u001b[39m)\n\u001b[1;32m    299\u001b[0m         result \u001b[38;5;241m=\u001b[39m app\u001b[38;5;241m.\u001b[39madd_category(session_id, category_id, category_name)\n",
      "\u001b[0;31mValueError\u001b[0m: invalid literal for int() with base 10: 'exit'"
     ]
    }
   ],
   "source": [
    "main()"
   ]
  },
  {
   "cell_type": "code",
   "execution_count": 6,
   "id": "293f1f45-31c0-4356-91cf-0f327f761b42",
   "metadata": {},
   "outputs": [
    {
     "name": "stdout",
     "output_type": "stream",
     "text": [
      "Welcome to the A2Z Marketplace! :)\n"
     ]
    },
    {
     "name": "stdin",
     "output_type": "stream",
     "text": [
      "Enter your email:  admin1@a2z.com\n",
      "Enter your password:  adminpassword1\n"
     ]
    },
    {
     "name": "stdout",
     "output_type": "stream",
     "text": [
      "\n",
      "Admin Actions:\n",
      "1. View Categories\n",
      "2. View Catalog\n",
      "3. Add Category\n",
      "4. Delete Category\n",
      "5. Add Product\n",
      "6. Delete Product\n",
      "7. Exit\n"
     ]
    },
    {
     "name": "stdin",
     "output_type": "stream",
     "text": [
      "Enter your choice:  3\n",
      "Enter new category ID:  5\n",
      "Enter new category name:  Furniture\n"
     ]
    },
    {
     "name": "stdout",
     "output_type": "stream",
     "text": [
      "Category added successfully.\n"
     ]
    },
    {
     "name": "stdin",
     "output_type": "stream",
     "text": [
      "Enter 'back' to return to previous actions or 'exit' to go back to the main menu:  exit\n"
     ]
    },
    {
     "name": "stdout",
     "output_type": "stream",
     "text": [
      "\n",
      "Admin Actions:\n",
      "1. View Categories\n",
      "2. View Catalog\n",
      "3. Add Category\n",
      "4. Delete Category\n",
      "5. Add Product\n",
      "6. Delete Product\n",
      "7. Exit\n"
     ]
    },
    {
     "name": "stdin",
     "output_type": "stream",
     "text": [
      "Enter your choice:  1\n"
     ]
    },
    {
     "name": "stdout",
     "output_type": "stream",
     "text": [
      "\n",
      "Categories:\n",
      "ID: 1, Name: Footwear\n",
      "ID: 2, Name: Clothing\n",
      "ID: 3, Name: Electronics\n",
      "ID: 4, Name: Kitchenware\n",
      "ID: 5, Name: Furniture\n",
      "\n",
      "Admin Actions:\n",
      "1. View Categories\n",
      "2. View Catalog\n",
      "3. Add Category\n",
      "4. Delete Category\n",
      "5. Add Product\n",
      "6. Delete Product\n",
      "7. Exit\n"
     ]
    },
    {
     "name": "stdin",
     "output_type": "stream",
     "text": [
      "Enter your choice:  5\n",
      "Enter product name:  Chair\n",
      "Enter category ID for the product:  5\n",
      "Enter product price:  900\n"
     ]
    },
    {
     "name": "stdout",
     "output_type": "stream",
     "text": [
      "Product added successfully with ID: 1021\n"
     ]
    },
    {
     "name": "stdin",
     "output_type": "stream",
     "text": [
      "Enter 'back' to return to previous actions or 'exit' to go back to the main menu:  exit\n"
     ]
    },
    {
     "name": "stdout",
     "output_type": "stream",
     "text": [
      "\n",
      "Admin Actions:\n",
      "1. View Categories\n",
      "2. View Catalog\n",
      "3. Add Category\n",
      "4. Delete Category\n",
      "5. Add Product\n",
      "6. Delete Product\n",
      "7. Exit\n"
     ]
    },
    {
     "name": "stdin",
     "output_type": "stream",
     "text": [
      "Enter your choice:  2\n"
     ]
    },
    {
     "name": "stdout",
     "output_type": "stream",
     "text": [
      "\n",
      "Catalog:\n",
      "ID: 1001, Name: Shoes, Category: Footwear, Price: 1500\n",
      "ID: 1002, Name: Sleeper, Category: Footwear, Price: 500\n",
      "ID: 1003, Name: Crocs, Category: Footwear, Price: 800\n",
      "ID: 1004, Name: Sandal, Category: Footwear, Price: 1000\n",
      "ID: 1005, Name: Loafer, Category: Footwear, Price: 3000\n",
      "ID: 1006, Name: Shirt, Category: Clothing, Price: 1500\n",
      "ID: 1007, Name: TShirt, Category: Clothing, Price: 1000\n",
      "ID: 1008, Name: Pant, Category: Clothing, Price: 1700\n",
      "ID: 1009, Name: Saree, Category: Clothing, Price: 4000\n",
      "ID: 1010, Name: TV, Category: Electronics, Price: 40000\n",
      "ID: 1011, Name: Fridge, Category: Electronics, Price: 35000\n",
      "ID: 1012, Name: Fan, Category: Electronics, Price: 5000\n",
      "ID: 1013, Name: Tubelight, Category: Electronics, Price: 300\n",
      "ID: 1014, Name: AC, Category: Electronics, Price: 60000\n",
      "ID: 1015, Name: Camera, Category: Electronics, Price: 70000\n",
      "ID: 1016, Name: Pan, Category: Kitchenware, Price: 1500\n",
      "ID: 1017, Name: Blender, Category: Kitchenware, Price: 6000\n",
      "ID: 1018, Name: Oven, Category: Kitchenware, Price: 10000\n",
      "ID: 1019, Name: Stove, Category: Kitchenware, Price: 7000\n",
      "ID: 1020, Name: Cooker, Category: Kitchenware, Price: 5000\n",
      "ID: 1021, Name: Chair, Category: Furniture, Price: 900.0\n",
      "\n",
      "Admin Actions:\n",
      "1. View Categories\n",
      "2. View Catalog\n",
      "3. Add Category\n",
      "4. Delete Category\n",
      "5. Add Product\n",
      "6. Delete Product\n",
      "7. Exit\n"
     ]
    },
    {
     "name": "stdin",
     "output_type": "stream",
     "text": [
      "Enter your choice:  7\n"
     ]
    }
   ],
   "source": [
    "main()"
   ]
  },
  {
   "cell_type": "code",
   "execution_count": null,
   "id": "7748107b-6c2a-43e8-89a2-e778ae8063c8",
   "metadata": {},
   "outputs": [],
   "source": []
  }
 ],
 "metadata": {
  "kernelspec": {
   "display_name": "Python 3 (ipykernel)",
   "language": "python",
   "name": "python3"
  },
  "language_info": {
   "codemirror_mode": {
    "name": "ipython",
    "version": 3
   },
   "file_extension": ".py",
   "mimetype": "text/x-python",
   "name": "python",
   "nbconvert_exporter": "python",
   "pygments_lexer": "ipython3",
   "version": "3.12.4"
  }
 },
 "nbformat": 4,
 "nbformat_minor": 5
}
